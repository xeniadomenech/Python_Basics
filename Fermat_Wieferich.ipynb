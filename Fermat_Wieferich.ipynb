from random import randint
def fermat(num, k):
  if num == 1:
    return False
  for x in range(k):
    val = randint(1, num-1)
    if pow(val, num-1, num) != 1:
      return False
  return True
  
 def primers_Wieferich(n=5000):
  wieferichs = [] 
  for p in range(2,n): 
    num = 2**(p-1) - 1  
    if num % (p*p) == 0: 
      wieferichs.append(p) 
  return wieferichs 
