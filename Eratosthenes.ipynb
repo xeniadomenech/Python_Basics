import math
def eratostenes(n):
  llista1 = [i for i in range(2,n)] 
  llista_primers = [] 
  while llista1[0] < math.sqrt(n): 
    primer = llista1[0] 
    llista_primers.append(primer) 
    for i in llista1: 
      if i%primer == 0: 
        llista1.remove(i) 
  for i in llista1: 
    llista_primers.append(i) 
  return llista_primers 
  
  def primer(n):
    distribucio = n*math.log(n)+n*math.log(math.log(n)) #O(5)
    llista = eratostenes(int(distribucio)) #O(3)
  return llista[n-1]
