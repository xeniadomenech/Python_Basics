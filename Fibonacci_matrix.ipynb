def multiplicacio_matrius(A,B,dim):
  C = []
  for i in range(dim):
    C.append([0]*dim)
  for i in range(dim):
    for j in range(dim):
      for k in range(dim):
        C[i][j] += A[i][k] * B[k][j]
  return C
  
 def fibonacci_matricial(n):
  F1 = []
  F2 = []
  sequencia = []
  sequencia.append(0)
  sequencia.append(1)
  for i in range(2):
    F2.append([0]*2)
    F1.append([0]*2)
  F1[0][0], F1[0][1] = 1, 1
  F1[1][0], F1[1][1] = 1, 0
  for i in range(2):
   for j in range(2):
      F2[i][j] = F1[i][j]
  for i in range(2,n-1):
    F2 = multiplicacio_matrius(F2,F1,2)
    sequencia.append(F2[1][0])
  sequencia.append(F2[0][0])
  return sequencia
